{
  "nbformat": 4,
  "nbformat_minor": 0,
  "metadata": {
    "colab": {
      "name": "bert.ipynb",
      "provenance": [],
      "authorship_tag": "ABX9TyOQxy6wnmU7Zw6o00JdHO45",
      "include_colab_link": true
    },
    "kernelspec": {
      "name": "python3",
      "display_name": "Python 3"
    }
  },
  "cells": [
    {
      "cell_type": "markdown",
      "metadata": {
        "id": "view-in-github",
        "colab_type": "text"
      },
      "source": [
        "<a href=\"https://colab.research.google.com/github/askft/thesis-code/blob/master/notebooks/bert.ipynb\" target=\"_parent\"><img src=\"https://colab.research.google.com/assets/colab-badge.svg\" alt=\"Open In Colab\"/></a>"
      ]
    },
    {
      "cell_type": "markdown",
      "metadata": {
        "id": "GJtA1QYgzBYo",
        "colab_type": "text"
      },
      "source": [
        "Version should be 1.15.2"
      ]
    },
    {
      "cell_type": "code",
      "metadata": {
        "id": "dUrDI2Yny6SN",
        "colab_type": "code",
        "colab": {}
      },
      "source": [
        "%tensorflow_version 1.x\n",
        "import tensorflow\n",
        "print(tensorflow.__version__)"
      ],
      "execution_count": null,
      "outputs": []
    },
    {
      "cell_type": "code",
      "metadata": {
        "id": "DgDbgtYPy9yy",
        "colab_type": "code",
        "colab": {}
      },
      "source": [
        "%cd /content/BioBERT/"
      ],
      "execution_count": null,
      "outputs": []
    },
    {
      "cell_type": "code",
      "metadata": {
        "id": "WkXjbdKvzJzT",
        "colab_type": "code",
        "colab": {}
      },
      "source": [
        "!python start_re_training.py"
      ],
      "execution_count": null,
      "outputs": []
    },
    {
      "cell_type": "code",
      "metadata": {
        "id": "VAK37jGgzKqO",
        "colab_type": "code",
        "colab": {}
      },
      "source": [
        "!python start_re_eval.python"
      ],
      "execution_count": null,
      "outputs": []
    }
  ]
}